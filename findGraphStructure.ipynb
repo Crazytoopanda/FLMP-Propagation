{
 "cells": [
  {
   "cell_type": "code",
   "execution_count": 2,
   "outputs": [],
   "source": [
    "import networkx as nx"
   ],
   "metadata": {
    "collapsed": false,
    "pycharm": {
     "name": "#%%\n"
    }
   }
  },
  {
   "cell_type": "code",
   "execution_count": 16,
   "outputs": [],
   "source": [
    "edgePath = \"./data/artificial/as/4/\"\n",
    "net1 = \"network10k_0.txt\"\n",
    "net2 = \"network10k_1.txt\"\n",
    "net3 = \"network10k_2.txt\"\n",
    "net4 = \"network10k_3.txt\"\n"
   ],
   "metadata": {
    "collapsed": false,
    "pycharm": {
     "name": "#%%\n"
    }
   }
  },
  {
   "cell_type": "code",
   "execution_count": 27,
   "outputs": [],
   "source": [
    "G1 = nx.read_edgelist(path=edgePath+net1)\n",
    "G2 = nx.read_edgelist(path=edgePath+net2)\n",
    "G3 = nx.read_edgelist(path=edgePath+net3)\n",
    "G4 = nx.read_edgelist(path=edgePath+net4)"
   ],
   "metadata": {
    "collapsed": false,
    "pycharm": {
     "name": "#%%\n"
    }
   }
  },
  {
   "cell_type": "code",
   "execution_count": 28,
   "outputs": [
    {
     "name": "stdout",
     "output_type": "stream",
     "text": [
      "7773 2276 2031 2365\n"
     ]
    }
   ],
   "source": [
    "print(len(G1.nodes), len(G2.nodes), len(G3.nodes), len(G4.nodes))"
   ],
   "metadata": {
    "collapsed": false,
    "pycharm": {
     "name": "#%%\n"
    }
   }
  },
  {
   "cell_type": "code",
   "execution_count": null,
   "outputs": [],
   "source": [],
   "metadata": {
    "collapsed": false,
    "pycharm": {
     "name": "#%%\n"
    }
   }
  }
 ],
 "metadata": {
  "kernelspec": {
   "display_name": "Python 3",
   "language": "python",
   "name": "python3"
  },
  "language_info": {
   "codemirror_mode": {
    "name": "ipython",
    "version": 2
   },
   "file_extension": ".py",
   "mimetype": "text/x-python",
   "name": "python",
   "nbconvert_exporter": "python",
   "pygments_lexer": "ipython2",
   "version": "2.7.6"
  }
 },
 "nbformat": 4,
 "nbformat_minor": 0
}