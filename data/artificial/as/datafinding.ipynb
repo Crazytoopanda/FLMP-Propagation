{
 "cells": [
  {
   "cell_type": "code",
   "execution_count": 9,
   "outputs": [],
   "source": [
    "with open(\"network10k_Louvain.txt\") as fs:\n",
    "    vertice_list = []\n",
    "    dic = {}\n",
    "    for line in fs.readlines():\n",
    "        vertice_list.append(set(line.strip().split(\" \")))\n",
    "        for i in line.strip().split(\" \"):\n",
    "            if i not in dic.keys():\n",
    "                dic[i] = 1\n",
    "            else:\n",
    "                dic[i] += 1"
   ],
   "metadata": {
    "collapsed": false,
    "pycharm": {
     "name": "#%%\n"
    }
   }
  },
  {
   "cell_type": "code",
   "execution_count": 12,
   "outputs": [],
   "source": [
    "for i in dic.keys():\n",
    "    if(dic[i] > 1):\n",
    "        print(i)"
   ],
   "metadata": {
    "collapsed": false,
    "pycharm": {
     "name": "#%%\n"
    }
   }
  },
  {
   "cell_type": "code",
   "execution_count": null,
   "outputs": [],
   "source": [],
   "metadata": {
    "collapsed": false,
    "pycharm": {
     "name": "#%%\n"
    }
   }
  }
 ],
 "metadata": {
  "kernelspec": {
   "display_name": "Python 3",
   "language": "python",
   "name": "python3"
  },
  "language_info": {
   "codemirror_mode": {
    "name": "ipython",
    "version": 2
   },
   "file_extension": ".py",
   "mimetype": "text/x-python",
   "name": "python",
   "nbconvert_exporter": "python",
   "pygments_lexer": "ipython2",
   "version": "2.7.6"
  }
 },
 "nbformat": 4,
 "nbformat_minor": 0
}